{
 "cells": [
  {
   "cell_type": "markdown",
   "id": "2ea6496c",
   "metadata": {},
   "source": [
    "# What is Pandas?\n"
   ]
  },
  {
   "cell_type": "markdown",
   "id": "6e2b0816",
   "metadata": {},
   "source": [
    "-In preprocessing process pandas library used.\n",
    "\n",
    "-Pandas is a powerful data analysis toolkit.\n",
    "\n",
    "-Open source\n",
    "\n",
    "-A fast and efficient DataFrame object for data manipulation \n",
    "\n",
    "-Reading and writing data structure and diffrent formats;csv,tsv,txt"
   ]
  },
  {
   "cell_type": "markdown",
   "id": "523371a6",
   "metadata": {},
   "source": [
    "# 1. Pandas Data Structure?"
   ]
  },
  {
   "cell_type": "markdown",
   "id": "c9e4109f",
   "metadata": {},
   "source": [
    "# 1.1 Series\n",
    "      "
   ]
  },
  {
   "cell_type": "markdown",
   "id": "6f58482d",
   "metadata": {},
   "source": [
    "One dimensional,labelled(output know) ,Honmogenous data "
   ]
  },
  {
   "cell_type": "markdown",
   "id": "4b897c4c",
   "metadata": {},
   "source": [
    "# 1.2 DataFrame"
   ]
  },
  {
   "cell_type": "markdown",
   "id": "08770b59",
   "metadata": {},
   "source": [
    "two dimensional,labelled(output know) ,Heterogenous tabular structure."
   ]
  },
  {
   "cell_type": "markdown",
   "id": "1015cf6d",
   "metadata": {},
   "source": [
    "# 1.3 Panel"
   ]
  },
  {
   "cell_type": "markdown",
   "id": "dbf74aca",
   "metadata": {},
   "source": [
    "Three dimensional,labelled(output know) ,array"
   ]
  },
  {
   "cell_type": "markdown",
   "id": "5c438f6a",
   "metadata": {},
   "source": [
    "# Pandas Vs Numpy"
   ]
  },
  {
   "cell_type": "markdown",
   "id": "28319314",
   "metadata": {},
   "source": [
    "Numpy array is used for the implimentatioin of pandas data object"
   ]
  },
  {
   "cell_type": "markdown",
   "id": "a8074c60",
   "metadata": {},
   "source": [
    "# How to use pandas Library"
   ]
  },
  {
   "cell_type": "code",
   "execution_count": 4,
   "id": "3c3d51a5",
   "metadata": {},
   "outputs": [],
   "source": [
    "import pandas as pd"
   ]
  },
  {
   "cell_type": "code",
   "execution_count": null,
   "id": "aff2c294",
   "metadata": {},
   "outputs": [],
   "source": []
  }
 ],
 "metadata": {
  "kernelspec": {
   "display_name": "Python 3 (ipykernel)",
   "language": "python",
   "name": "python3"
  },
  "language_info": {
   "codemirror_mode": {
    "name": "ipython",
    "version": 3
   },
   "file_extension": ".py",
   "mimetype": "text/x-python",
   "name": "python",
   "nbconvert_exporter": "python",
   "pygments_lexer": "ipython3",
   "version": "3.9.7"
  }
 },
 "nbformat": 4,
 "nbformat_minor": 5
}
